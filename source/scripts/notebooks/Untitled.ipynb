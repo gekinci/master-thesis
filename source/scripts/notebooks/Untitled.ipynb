{
 "cells": [
  {
   "cell_type": "code",
   "execution_count": null,
   "metadata": {},
   "outputs": [],
   "source": [
    "# import sys\n",
    "# !{sys.executable} -m pip install pyyaml"
   ]
  },
  {
   "cell_type": "code",
   "execution_count": 1,
   "metadata": {},
   "outputs": [],
   "source": [
    "import os\n",
    "os.chdir(r'C:\\Users\\gizem\\Desktop\\master_thesis\\source')\n",
    "\n",
    "import pandas as pd\n",
    "import yaml\n",
    "from simulations.pomdp import POMDPSimulation\n",
    "from utils.visualization import *\n",
    "from utils.constants import *\n",
    "from utils.helpers import *\n",
    "from inference.sampling import *"
   ]
  },
  {
   "cell_type": "code",
   "execution_count": 2,
   "metadata": {},
   "outputs": [
    {
     "name": "stderr",
     "output_type": "stream",
     "text": [
      "c:\\users\\gizem\\appdata\\local\\programs\\python\\python37\\lib\\site-packages\\ipykernel_launcher.py:6: SettingWithCopyWarning: \n",
      "A value is trying to be set on a copy of a slice from a DataFrame\n",
      "\n",
      "See the caveats in the documentation: https://pandas.pydata.org/pandas-docs/stable/user_guide/indexing.html#returning-a-view-versus-a-copy\n",
      "  \n"
     ]
    }
   ],
   "source": [
    "df_all_traj = pd.read_csv(r'_data\\inference_sampling\\1583370639\\df_all_traj.csv')\n",
    "df_all_traj.drop('Unnamed: 0', axis=1, inplace=True)\n",
    "\n",
    "df_traj = df_all_traj[(df_all_traj[TRAJ_ID]==1) & (df_all_traj[TIME]<=10)]\n",
    "last = df_traj.iloc[-1]\n",
    "last[TIME] = 10.0\n",
    "df_traj_orig = df_traj.append(last)"
   ]
  },
  {
   "cell_type": "code",
   "execution_count": 9,
   "metadata": {},
   "outputs": [],
   "source": [
    "folder = create_folder_for_experiment(folder_name='../_data/inference_sampling/notebook/')\n",
    "\n",
    "with open('configs/pomdp_sim.yaml', 'r') as f:\n",
    "    cfg = yaml.load(f, Loader=yaml.FullLoader)\n",
    "\n",
    "np.random.seed(cfg[SEED])\n",
    "pomdp_sim = POMDPSimulation(cfg, save_folder=folder, import_data='1582930774')"
   ]
  },
  {
   "cell_type": "code",
   "execution_count": 10,
   "metadata": {},
   "outputs": [],
   "source": [
    "np.random.seed(1)\n",
    "\n",
    "phi_set = obs_model_set(len(cfg[STATES]), len(cfg[OBS_SPACE]))\n",
    "# for obs_model in phi_set:\n",
    "#     pomdp_sim.reset()\n",
    "#     pomdp_sim.reset_obs_model(obs_model)"
   ]
  },
  {
   "cell_type": "code",
   "execution_count": null,
   "metadata": {},
   "outputs": [],
   "source": [
    "pomdp_sim.reset()\n",
    "pomdp_sim.reset_obs_model(phi_set[0])"
   ]
  },
  {
   "cell_type": "code",
   "execution_count": 11,
   "metadata": {},
   "outputs": [],
   "source": [
    "df_traj = pomdp_sim.sample_parent_trajectory()"
   ]
  },
  {
   "cell_type": "code",
   "execution_count": 12,
   "metadata": {},
   "outputs": [
    {
     "data": {
      "text/html": [
       "<div>\n",
       "<style scoped>\n",
       "    .dataframe tbody tr th:only-of-type {\n",
       "        vertical-align: middle;\n",
       "    }\n",
       "\n",
       "    .dataframe tbody tr th {\n",
       "        vertical-align: top;\n",
       "    }\n",
       "\n",
       "    .dataframe thead th {\n",
       "        text-align: right;\n",
       "    }\n",
       "</style>\n",
       "<table border=\"1\" class=\"dataframe\">\n",
       "  <thead>\n",
       "    <tr style=\"text-align: right;\">\n",
       "      <th></th>\n",
       "      <th>X</th>\n",
       "      <th>Y</th>\n",
       "      <th>time</th>\n",
       "      <th>o</th>\n",
       "    </tr>\n",
       "  </thead>\n",
       "  <tbody>\n",
       "    <tr>\n",
       "      <th>0</th>\n",
       "      <td>1.0</td>\n",
       "      <td>1.0</td>\n",
       "      <td>0.000000</td>\n",
       "      <td>2</td>\n",
       "    </tr>\n",
       "    <tr>\n",
       "      <th>1</th>\n",
       "      <td>1.0</td>\n",
       "      <td>0.0</td>\n",
       "      <td>0.067504</td>\n",
       "      <td>1</td>\n",
       "    </tr>\n",
       "    <tr>\n",
       "      <th>2</th>\n",
       "      <td>1.0</td>\n",
       "      <td>1.0</td>\n",
       "      <td>0.078787</td>\n",
       "      <td>2</td>\n",
       "    </tr>\n",
       "    <tr>\n",
       "      <th>3</th>\n",
       "      <td>0.0</td>\n",
       "      <td>1.0</td>\n",
       "      <td>2.249753</td>\n",
       "      <td>1</td>\n",
       "    </tr>\n",
       "    <tr>\n",
       "      <th>4</th>\n",
       "      <td>1.0</td>\n",
       "      <td>1.0</td>\n",
       "      <td>2.413352</td>\n",
       "      <td>2</td>\n",
       "    </tr>\n",
       "    <tr>\n",
       "      <th>5</th>\n",
       "      <td>0.0</td>\n",
       "      <td>1.0</td>\n",
       "      <td>3.197805</td>\n",
       "      <td>1</td>\n",
       "    </tr>\n",
       "    <tr>\n",
       "      <th>6</th>\n",
       "      <td>0.0</td>\n",
       "      <td>0.0</td>\n",
       "      <td>3.218363</td>\n",
       "      <td>0</td>\n",
       "    </tr>\n",
       "    <tr>\n",
       "      <th>7</th>\n",
       "      <td>1.0</td>\n",
       "      <td>0.0</td>\n",
       "      <td>3.606313</td>\n",
       "      <td>1</td>\n",
       "    </tr>\n",
       "    <tr>\n",
       "      <th>8</th>\n",
       "      <td>1.0</td>\n",
       "      <td>1.0</td>\n",
       "      <td>4.779995</td>\n",
       "      <td>2</td>\n",
       "    </tr>\n",
       "    <tr>\n",
       "      <th>9</th>\n",
       "      <td>1.0</td>\n",
       "      <td>0.0</td>\n",
       "      <td>7.565133</td>\n",
       "      <td>1</td>\n",
       "    </tr>\n",
       "    <tr>\n",
       "      <th>10</th>\n",
       "      <td>0.0</td>\n",
       "      <td>0.0</td>\n",
       "      <td>8.314336</td>\n",
       "      <td>0</td>\n",
       "    </tr>\n",
       "    <tr>\n",
       "      <th>11</th>\n",
       "      <td>1.0</td>\n",
       "      <td>0.0</td>\n",
       "      <td>8.384072</td>\n",
       "      <td>1</td>\n",
       "    </tr>\n",
       "    <tr>\n",
       "      <th>12</th>\n",
       "      <td>1.0</td>\n",
       "      <td>1.0</td>\n",
       "      <td>8.410259</td>\n",
       "      <td>2</td>\n",
       "    </tr>\n",
       "    <tr>\n",
       "      <th>13</th>\n",
       "      <td>1.0</td>\n",
       "      <td>1.0</td>\n",
       "      <td>10.000000</td>\n",
       "      <td>2</td>\n",
       "    </tr>\n",
       "  </tbody>\n",
       "</table>\n",
       "</div>"
      ],
      "text/plain": [
       "      X    Y       time  o\n",
       "0   1.0  1.0   0.000000  2\n",
       "1   1.0  0.0   0.067504  1\n",
       "2   1.0  1.0   0.078787  2\n",
       "3   0.0  1.0   2.249753  1\n",
       "4   1.0  1.0   2.413352  2\n",
       "5   0.0  1.0   3.197805  1\n",
       "6   0.0  0.0   3.218363  0\n",
       "7   1.0  0.0   3.606313  1\n",
       "8   1.0  1.0   4.779995  2\n",
       "9   1.0  0.0   7.565133  1\n",
       "10  0.0  0.0   8.314336  0\n",
       "11  1.0  0.0   8.384072  1\n",
       "12  1.0  1.0   8.410259  2\n",
       "13  1.0  1.0  10.000000  2"
      ]
     },
     "execution_count": 12,
     "metadata": {},
     "output_type": "execute_result"
    }
   ],
   "source": [
    "df_traj"
   ]
  },
  {
   "cell_type": "code",
   "execution_count": 13,
   "metadata": {
    "scrolled": true
   },
   "outputs": [],
   "source": [
    "prev = df_traj.iloc[0]\n",
    "for i, row in df_traj.iterrows():\n",
    "    if ((row == prev).all()) or (row[OBS] != prev[OBS]):\n",
    "        pomdp_sim.update_belief_state_jump(int(row[OBS]), row[TIME])\n",
    "    if i == df_traj.index[-1]:\n",
    "        break\n",
    "    else:\n",
    "        t = row[TIME]\n",
    "        t_next = df_traj[TIME].values[i + 1]\n",
    "        pomdp_sim.append_event(t_next)\n",
    "        pomdp_sim.update_cont_belief_state(t, t_next)"
   ]
  },
  {
   "cell_type": "code",
   "execution_count": 15,
   "metadata": {},
   "outputs": [],
   "source": [
    "pomdp_sim.update_cont_Q()\n",
    "pomdp_sim.df_Qz.to_csv('debug.csv')"
   ]
  },
  {
   "cell_type": "code",
   "execution_count": 16,
   "metadata": {},
   "outputs": [],
   "source": [
    "for t_ in df_traj_.loc[abs(df_traj_['Z'].diff())>0, TIME]:\n",
    "    pomdp_sim.append_event(t_)"
   ]
  },
  {
   "cell_type": "code",
   "execution_count": 17,
   "metadata": {},
   "outputs": [],
   "source": [
    "node = 'Z'\n",
    "df_Q = pomdp_sim.df_Qz.copy()"
   ]
  },
  {
   "cell_type": "code",
   "execution_count": 22,
   "metadata": {},
   "outputs": [],
   "source": [
    "df_Q[T_DELTA] = np.append(to_decimal(pomdp_sim.time_grain),\n",
    "                                         np.diff(df_Q.index)).astype(float)\n",
    "df_Q.fillna(method='ffill', inplace=True)"
   ]
  },
  {
   "cell_type": "code",
   "execution_count": 26,
   "metadata": {},
   "outputs": [],
   "source": [
    "L = 0\n",
    "df_trans = df_traj_.loc[df_traj_[node].diff() != 0]\n",
    "trans_tuples = list(\n",
    "    zip(df_trans[node].astype(int), df_trans[node][1:].astype(int), df_trans[TIME], df_trans[TIME][1:]))\n",
    "\n",
    "for i in trans_tuples:\n",
    "    trans_tag = ''.join(map(str, i[0:2]))\n",
    "    stay_tag = ''.join((str(i[0]), str(i[0])))\n",
    "    times = i[2:4]\n",
    "    q_trans = df_Q.truncate(after=to_decimal(times[1])).iloc[-1].loc[trans_tag]\n",
    "    df_Q_ = df_Q.truncate(before=to_decimal(times[0]), after=to_decimal(times[1]))\n",
    "    prob_stay = (df_Q_[stay_tag].multiply(df_Q_[T_DELTA], axis=\"index\")).cumsum().loc[to_decimal(times[1])]\n",
    "    prob_trans = df_Q.loc[to_decimal(times[1]), trans_tag] / abs(df_Q.loc[to_decimal(times[1]), stay_tag])\n",
    "    L += np.log(q_trans) + np.log(prob_trans) + prob_stay"
   ]
  },
  {
   "cell_type": "code",
   "execution_count": 30,
   "metadata": {},
   "outputs": [],
   "source": [
    "L_list = np.zeros((81))"
   ]
  },
  {
   "cell_type": "code",
   "execution_count": 31,
   "metadata": {},
   "outputs": [
    {
     "data": {
      "text/plain": [
       "array([0., 0., 0., 0., 0., 0., 0., 0., 0., 0., 0., 0., 0., 0., 0., 0., 0.,\n",
       "       0., 0., 0., 0., 0., 0., 0., 0., 0., 0., 0., 0., 0., 0., 0., 0., 0.,\n",
       "       0., 0., 0., 0., 0., 0., 0., 0., 0., 0., 0., 0., 0., 0., 0., 0., 0.,\n",
       "       0., 0., 0., 0., 0., 0., 0., 0., 0., 0., 0., 0., 0., 0., 0., 0., 0.,\n",
       "       0., 0., 0., 0., 0., 0., 0., 0., 0., 0., 0., 0., 0.])"
      ]
     },
     "execution_count": 31,
     "metadata": {},
     "output_type": "execute_result"
    }
   ],
   "source": [
    "L_list"
   ]
  },
  {
   "cell_type": "code",
   "execution_count": 33,
   "metadata": {},
   "outputs": [
    {
     "data": {
      "text/plain": [
       "array([ 1,  2,  3,  4,  5,  6,  7,  8,  9, 10, 11, 12, 13, 14, 15, 16, 17,\n",
       "       18, 19, 20], dtype=int64)"
      ]
     },
     "execution_count": 33,
     "metadata": {},
     "output_type": "execute_result"
    }
   ],
   "source": [
    "df_all_traj[TRAJ_ID].unique()"
   ]
  },
  {
   "cell_type": "code",
   "execution_count": null,
   "metadata": {},
   "outputs": [],
   "source": []
  }
 ],
 "metadata": {
  "kernelspec": {
   "display_name": "Python 3",
   "language": "python",
   "name": "python3"
  },
  "language_info": {
   "codemirror_mode": {
    "name": "ipython",
    "version": 3
   },
   "file_extension": ".py",
   "mimetype": "text/x-python",
   "name": "python",
   "nbconvert_exporter": "python",
   "pygments_lexer": "ipython3",
   "version": "3.7.6"
  }
 },
 "nbformat": 4,
 "nbformat_minor": 4
}
