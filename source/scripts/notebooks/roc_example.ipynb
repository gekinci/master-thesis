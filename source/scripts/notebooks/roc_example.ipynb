{
 "cells": [
  {
   "cell_type": "code",
   "execution_count": 1,
   "metadata": {},
   "outputs": [],
   "source": [
    "import numpy as np\n",
    "import matplotlib.pyplot as plt\n",
    "from itertools import cycle\n",
    "\n",
    "from sklearn import svm, datasets\n",
    "from sklearn.metrics import roc_curve, auc\n",
    "from sklearn.model_selection import train_test_split\n",
    "from sklearn.preprocessing import label_binarize\n",
    "from sklearn.multiclass import OneVsRestClassifier\n",
    "from scipy import interp\n",
    "from sklearn.metrics import roc_auc_score"
   ]
  },
  {
   "cell_type": "code",
   "execution_count": 2,
   "metadata": {},
   "outputs": [],
   "source": [
    "# Import some data to play with\n",
    "iris = datasets.load_iris()\n",
    "X = iris.data\n",
    "y = iris.target\n",
    "\n",
    "# Binarize the output\n",
    "y = label_binarize(y, classes=[0, 1, 2])\n",
    "n_classes = y.shape[1]"
   ]
  },
  {
   "cell_type": "code",
   "execution_count": 3,
   "metadata": {},
   "outputs": [],
   "source": [
    "# Add noisy features to make the problem harder\n",
    "random_state = np.random.RandomState(0)\n",
    "n_samples, n_features = X.shape\n",
    "X = np.c_[X, random_state.randn(n_samples, 200 * n_features)]\n",
    "\n",
    "# shuffle and split training and test sets\n",
    "X_train, X_test, y_train, y_test = train_test_split(X, y, test_size=.5,\n",
    "                                                    random_state=0)\n",
    "\n",
    "# Learn to predict each class against the other\n",
    "classifier = OneVsRestClassifier(svm.SVC(kernel='linear', probability=True,\n",
    "                                 random_state=random_state))\n",
    "y_score = classifier.fit(X_train, y_train).decision_function(X_test)\n",
    "\n",
    "# Compute ROC curve and ROC area for each class\n",
    "fpr = dict()\n",
    "tpr = dict()\n",
    "roc_auc = dict()\n",
    "for i in range(n_classes):\n",
    "    fpr[i], tpr[i], _ = roc_curve(y_test[:, i], y_score[:, i])\n",
    "    roc_auc[i] = auc(fpr[i], tpr[i])\n",
    "\n",
    "# Compute micro-average ROC curve and ROC area\n",
    "fpr[\"micro\"], tpr[\"micro\"], _ = roc_curve(y_test.ravel(), y_score.ravel())\n",
    "roc_auc[\"micro\"] = auc(fpr[\"micro\"], tpr[\"micro\"])"
   ]
  },
  {
   "cell_type": "code",
   "execution_count": 4,
   "metadata": {},
   "outputs": [
    {
     "data": {
      "image/png": "[encoded data removed]",
      "text/plain": [
       "<Figure size 432x288 with 1 Axes>"
      ]
     },
     "metadata": {
      "needs_background": "light"
     },
     "output_type": "display_data"
    }
   ],
   "source": [
    "plt.figure()\n",
    "lw = 2\n",
    "plt.plot(fpr[2], tpr[2], color='darkorange',\n",
    "         lw=lw, label='ROC curve (area = %0.2f)' % roc_auc[2])\n",
    "plt.plot([0, 1], [0, 1], color='navy', lw=lw, linestyle='--')\n",
    "plt.xlim([0.0, 1.0])\n",
    "plt.ylim([0.0, 1.05])\n",
    "plt.xlabel('False Positive Rate')\n",
    "plt.ylabel('True Positive Rate')\n",
    "plt.title('Receiver operating characteristic example')\n",
    "plt.legend(loc=\"lower right\")\n",
    "plt.show()"
   ]
  },
  {
   "cell_type": "code",
   "execution_count": 5,
   "metadata": {},
   "outputs": [
    {
     "data": {
      "text/plain": [
       "array([[0, 0, 1],\n",
       "       [0, 1, 0],\n",
       "       [1, 0, 0],\n",
       "       [0, 0, 1],\n",
       "       [1, 0, 0],\n",
       "       [0, 0, 1],\n",
       "       [1, 0, 0],\n",
       "       [0, 1, 0],\n",
       "       [0, 1, 0],\n",
       "       [0, 1, 0],\n",
       "       [0, 0, 1],\n",
       "       [0, 1, 0],\n",
       "       [0, 1, 0],\n",
       "       [0, 1, 0],\n",
       "       [0, 1, 0],\n",
       "       [1, 0, 0],\n",
       "       [0, 1, 0],\n",
       "       [0, 1, 0],\n",
       "       [1, 0, 0],\n",
       "       [1, 0, 0],\n",
       "       [0, 0, 1],\n",
       "       [0, 1, 0],\n",
       "       [1, 0, 0],\n",
       "       [1, 0, 0],\n",
       "       [0, 0, 1],\n",
       "       [1, 0, 0],\n",
       "       [1, 0, 0],\n",
       "       [0, 1, 0],\n",
       "       [0, 1, 0],\n",
       "       [1, 0, 0],\n",
       "       [0, 0, 1],\n",
       "       [0, 1, 0],\n",
       "       [1, 0, 0],\n",
       "       [0, 0, 1],\n",
       "       [0, 0, 1],\n",
       "       [0, 1, 0],\n",
       "       [1, 0, 0],\n",
       "       [0, 1, 0],\n",
       "       [0, 1, 0],\n",
       "       [0, 1, 0],\n",
       "       [0, 0, 1],\n",
       "       [1, 0, 0],\n",
       "       [0, 0, 1],\n",
       "       [1, 0, 0],\n",
       "       [1, 0, 0],\n",
       "       [0, 1, 0],\n",
       "       [0, 0, 1],\n",
       "       [0, 0, 1],\n",
       "       [0, 0, 1],\n",
       "       [0, 0, 1],\n",
       "       [0, 1, 0],\n",
       "       [0, 0, 1],\n",
       "       [0, 1, 0],\n",
       "       [0, 1, 0],\n",
       "       [0, 0, 1],\n",
       "       [0, 0, 1],\n",
       "       [0, 0, 1],\n",
       "       [0, 0, 1],\n",
       "       [0, 1, 0],\n",
       "       [0, 0, 1],\n",
       "       [0, 1, 0],\n",
       "       [1, 0, 0],\n",
       "       [0, 0, 1],\n",
       "       [0, 1, 0],\n",
       "       [0, 1, 0],\n",
       "       [0, 1, 0],\n",
       "       [0, 1, 0],\n",
       "       [0, 0, 1],\n",
       "       [1, 0, 0],\n",
       "       [1, 0, 0],\n",
       "       [0, 0, 1],\n",
       "       [0, 1, 0],\n",
       "       [1, 0, 0],\n",
       "       [1, 0, 0],\n",
       "       [0, 1, 0]])"
      ]
     },
     "execution_count": 5,
     "metadata": {},
     "output_type": "execute_result"
    }
   ],
   "source": [
    "y_test"
   ]
  },
  {
   "cell_type": "code",
   "execution_count": 6,
   "metadata": {},
   "outputs": [
    {
     "data": {
      "text/plain": [
       "array([[-0.76301132, -0.36482547,  0.12386354],\n",
       "       [-0.20224493, -0.63144366, -0.16612302],\n",
       "       [ 0.11801481, -0.80263073, -0.32055874],\n",
       "       [-0.90780855, -0.12395478,  0.02199789],\n",
       "       [-0.01116192, -0.27913475, -0.71889214],\n",
       "       [-0.6048727 , -0.34730509, -0.05859016],\n",
       "       [ 0.02283491, -0.24506467, -0.79111998],\n",
       "       [-0.61076876,  0.18264917, -0.57199363],\n",
       "       [-0.37572754, -0.24059516, -0.38933694],\n",
       "       [-0.47017411, -0.25745136, -0.27510839],\n",
       "       [-0.42224234, -0.30270719, -0.27995197],\n",
       "       [-0.3355867 , -0.7030665 ,  0.02530178],\n",
       "       [-0.22723929, -0.64062258, -0.13456902],\n",
       "       [-0.07856729, -0.46354017, -0.45918364],\n",
       "       [-0.53383361, -0.2653183 , -0.20023832],\n",
       "       [ 0.12163662, -0.56706353, -0.56980985],\n",
       "       [-0.71356947, -0.04226738, -0.24297128],\n",
       "       [-0.55111511, -0.13784913, -0.31370595],\n",
       "       [ 0.37991331, -0.99673302, -0.39090964],\n",
       "       [-0.11107635, -0.91349462,  0.03129167],\n",
       "       [-0.70713712, -0.06436533, -0.21423788],\n",
       "       [-0.02392675, -0.45906496, -0.51922684],\n",
       "       [-0.25045747, -0.80086123,  0.04121338],\n",
       "       [ 0.12675547, -0.70985659, -0.41072849],\n",
       "       [-0.68210402, -0.20735021, -0.12051204],\n",
       "       [-0.08001795, -0.36698232, -0.57704892],\n",
       "       [-0.03259341, -0.1159895 , -0.86493066],\n",
       "       [-0.04953425, -0.73611276, -0.21682409],\n",
       "       [-0.12974835, -0.37676258, -0.49997476],\n",
       "       [-0.19299299, -0.71078341, -0.11058011],\n",
       "       [-0.3619768 , -0.41408367, -0.22759345],\n",
       "       [-0.22818639, -0.78971942,  0.02046723],\n",
       "       [-0.06196433, -0.47617037, -0.45379557],\n",
       "       [-0.52455061, -0.46507392, -0.00375631],\n",
       "       [-0.40026409, -0.71470221,  0.10106561],\n",
       "       [-0.35056585, -0.31125083, -0.34020065],\n",
       "       [-0.05770139, -0.51388968, -0.41776502],\n",
       "       [-1.11907501, -0.0074193 ,  0.12967625],\n",
       "       [ 0.19599366, -0.65773489, -0.54610377],\n",
       "       [-0.04299172, -0.60049718, -0.35901924],\n",
       "       [-0.48108269, -0.21918849, -0.30065047],\n",
       "       [ 0.1741885 , -1.0107504 , -0.181261  ],\n",
       "       [-0.41416456, -0.60044961,  0.00856393],\n",
       "       [-0.01053513, -0.7579771 , -0.2292247 ],\n",
       "       [ 0.01645355, -0.81552421, -0.2039252 ],\n",
       "       [-0.11932181, -0.84787471, -0.05831557],\n",
       "       [-0.70817199, -0.2863326 , -0.01186087],\n",
       "       [-0.77303401, -0.43228203,  0.21326435],\n",
       "       [-0.61489613, -0.15060119, -0.23302033],\n",
       "       [-0.96334774, -0.62804881,  0.58423201],\n",
       "       [-0.31037723, -0.29572764, -0.39404258],\n",
       "       [-0.31952657, -0.34638653, -0.32086131],\n",
       "       [-0.35306417, -0.66917752,  0.00767521],\n",
       "       [ 0.12127427, -0.62483455, -0.50550427],\n",
       "       [-0.6643231 , -0.11456775, -0.21298739],\n",
       "       [-0.55149778, -0.34855346, -0.10551977],\n",
       "       [-0.55695146, -0.13384038, -0.30613086],\n",
       "       [-0.41111447, -0.52487765, -0.07455313],\n",
       "       [-0.49463336, -0.23331763, -0.27802284],\n",
       "       [ 0.06910059, -0.85448531, -0.21662877],\n",
       "       [-0.23036784, -0.48759987, -0.28317657],\n",
       "       [ 0.30342285, -0.83392076, -0.47754831],\n",
       "       [ 0.17642852, -0.81597935, -0.3755452 ],\n",
       "       [-0.1906155 , -0.70826295, -0.10238744],\n",
       "       [-0.42910413, -0.39894364, -0.1693745 ],\n",
       "       [-0.67759563,  0.09194626, -0.3995789 ],\n",
       "       [-0.32958811, -0.56572577, -0.12075396],\n",
       "       [-0.97119543, -0.46484965,  0.41477557],\n",
       "       [ 0.02088168, -0.56912947, -0.44616888],\n",
       "       [-0.08177305, -0.5611945 , -0.35229343],\n",
       "       [-0.41466962, -0.63705856,  0.04838688],\n",
       "       [-0.30436228, -0.08425378, -0.61864694],\n",
       "       [ 0.18869727, -0.8879586 , -0.29713077],\n",
       "       [ 0.24966175, -0.80507517, -0.44324457],\n",
       "       [-0.39980476, -0.29016769, -0.30413406]])"
      ]
     },
     "execution_count": 6,
     "metadata": {},
     "output_type": "execute_result"
    }
   ],
   "source": [
    "y_score"
   ]
  },
  {
   "cell_type": "code",
   "execution_count": 7,
   "metadata": {},
   "outputs": [
    {
     "data": {
      "text/plain": [
       "(array([0.        , 0.        , 0.        , 0.01960784, 0.01960784,\n",
       "        0.07843137, 0.07843137, 0.09803922, 0.09803922, 0.11764706,\n",
       "        0.11764706, 0.1372549 , 0.1372549 , 0.15686275, 0.15686275,\n",
       "        0.17647059, 0.17647059, 0.31372549, 0.31372549, 0.33333333,\n",
       "        0.33333333, 0.35294118, 0.35294118, 0.41176471, 0.41176471,\n",
       "        0.45098039, 0.45098039, 0.47058824, 0.47058824, 0.50980392,\n",
       "        0.50980392, 0.56862745, 0.56862745, 1.        ]),\n",
       " array([0.        , 0.04166667, 0.125     , 0.125     , 0.25      ,\n",
       "        0.25      , 0.29166667, 0.29166667, 0.33333333, 0.33333333,\n",
       "        0.41666667, 0.41666667, 0.5       , 0.5       , 0.54166667,\n",
       "        0.54166667, 0.58333333, 0.58333333, 0.70833333, 0.70833333,\n",
       "        0.75      , 0.75      , 0.79166667, 0.79166667, 0.83333333,\n",
       "        0.83333333, 0.875     , 0.875     , 0.91666667, 0.91666667,\n",
       "        0.95833333, 0.95833333, 1.        , 1.        ]),\n",
       " array([ 1.58423201,  0.58423201,  0.21326435,  0.12967625,  0.04838688,\n",
       "         0.02530178,  0.02199789,  0.02046723,  0.00856393,  0.00767521,\n",
       "        -0.01186087, -0.05831557, -0.07455313, -0.10238744, -0.10551977,\n",
       "        -0.11058011, -0.12051204, -0.2039252 , -0.21662877, -0.21682409,\n",
       "        -0.22759345, -0.2292247 , -0.23302033, -0.27802284, -0.27995197,\n",
       "        -0.29713077, -0.30065047, -0.30413406, -0.30613086, -0.32055874,\n",
       "        -0.32086131, -0.35901924, -0.3755452 , -0.86493066]))"
      ]
     },
     "execution_count": 7,
     "metadata": {},
     "output_type": "execute_result"
    }
   ],
   "source": [
    "roc_curve(y_test[:, i], y_score[:, i])"
   ]
  },
  {
   "cell_type": "code",
   "execution_count": null,
   "metadata": {},
   "outputs": [],
   "source": []
  }
 ],
 "metadata": {
  "kernelspec": {
   "display_name": "Python 3",
   "language": "python",
   "name": "python3"
  },
  "language_info": {
   "codemirror_mode": {
    "name": "ipython",
    "version": 3
   },
   "file_extension": ".py",
   "mimetype": "text/x-python",
   "name": "python",
   "nbconvert_exporter": "python",
   "pygments_lexer": "ipython3",
   "version": "3.7.6"
  }
 },
 "nbformat": 4,
 "nbformat_minor": 4
}
